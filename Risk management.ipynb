{
  "nbformat": 4,
  "nbformat_minor": 0,
  "metadata": {
    "colab": {
      "name": "Untitled1.ipynb",
      "provenance": []
    },
    "kernelspec": {
      "name": "python3",
      "display_name": "Python 3"
    },
    "language_info": {
      "name": "python"
    }
  },
  "cells": [
    {
      "cell_type": "code",
      "execution_count": null,
      "metadata": {
        "id": "BNAt4N3z9E-P"
      },
      "outputs": [],
      "source": [
        "!pip install --upgrade xlrd\n",
        "import numpy as np\n",
        "import pandas as pd\n",
        "import math as m\n",
        "data = pd.read_excel(\"BondPortfolio2.xls\")\n",
        "\n",
        "x_data = (np.array(data.Maturities),np.array(data.Cpns),np.array(data.CpnF))\n",
        "y_data = np.array(data.Prices)\n",
        "t =[]\n",
        "t[i] = i for i in range(len(y_data)):\n",
        "  "
      ]
    },
    {
      "cell_type": "code",
      "source": [
        "def P(X,b1,b2,b3,b4,l1,l2):\n",
        "    T,CPN,CPNF = X\n",
        "    \n",
        "    def r(t):\n",
        "        r = (b1 + b2*(1-m.exp(-t/l1))/(t/l1) + b3*((1-m.exp(-t/l1))/(t/l1)-m.exp(-t/l1)) + b4*((1-m.exp(-t/l2))/(t/l2)-m.exp(-t/l2)))\n",
        "        return r\n",
        "    \n",
        "    def d(t):\n",
        "        d = m.exp(-r(t)*t)\n",
        "        return d\n",
        "\n",
        "    N = T//(1/CPNF)+1 \n",
        "    prices = []\n",
        "    \n",
        "    for i in range(len(N)):\n",
        "        n = int(N[i])\n",
        "        t = T[i]\n",
        "        cpn = CPN[i]\n",
        "        cpnf = CPNF[i]\n",
        "        \n",
        "        cf = [cpn/cpnf*100]*(n-1)\n",
        "        cf.append(100 + cpn/cpnf*100)\n",
        "        cf = np.array(cf)\n",
        "        cf = np.reshape(cf,(1,n))\n",
        "        D = np.array([d(t-j/cpnf) for j in range(n)]).reshape((n,1))\n",
        "        D = np.flip(D)\n",
        "        p = float(np.dot(cf,D))\n",
        "        prices.append(p)\n",
        "        \n",
        "    prices = np.array(prices)\n",
        "    return prices"
      ],
      "metadata": {
        "id": "1kptNg459oNr"
      },
      "execution_count": null,
      "outputs": []
    },
    {
      "cell_type": "code",
      "source": [
        "from scipy.optimize import curve_fit\n",
        "\n",
        "b1,b2,b3,b4,l1,l2 = curve_fit(P, x_data, y_data,maxfev=100000)[0]\n",
        "pred_Prices = P(x_data,b1,b2,b3,b4,l1,l2)"
      ],
      "metadata": {
        "id": "QZE-Ogfy9pi-"
      },
      "execution_count": null,
      "outputs": []
    },
    {
      "cell_type": "code",
      "source": [
        "import matplotlib.pyplot as plt\n",
        "plt.plot(t,y_data,\".\", label = \"Data\" )\n",
        "plt.plot(t, pred_Prices, label=\"fit\")\n",
        "plt.legend()\n",
        "plt.show()"
      ],
      "metadata": {
        "colab": {
          "base_uri": "https://localhost:8080/",
          "height": 235
        },
        "id": "456E41Wl9tB9",
        "outputId": "16c573c0-946c-489c-f4f7-d1ea80d325a3"
      },
      "execution_count": 7,
      "outputs": [
        {
          "output_type": "error",
          "ename": "NameError",
          "evalue": "ignored",
          "traceback": [
            "\u001b[0;31m---------------------------------------------------------------------------\u001b[0m",
            "\u001b[0;31mNameError\u001b[0m                                 Traceback (most recent call last)",
            "\u001b[0;32m<ipython-input-7-64158c9d3375>\u001b[0m in \u001b[0;36m<module>\u001b[0;34m()\u001b[0m\n\u001b[1;32m      1\u001b[0m \u001b[0;32mimport\u001b[0m \u001b[0mmatplotlib\u001b[0m\u001b[0;34m.\u001b[0m\u001b[0mpyplot\u001b[0m \u001b[0;32mas\u001b[0m \u001b[0mplt\u001b[0m\u001b[0;34m\u001b[0m\u001b[0;34m\u001b[0m\u001b[0m\n\u001b[0;32m----> 2\u001b[0;31m \u001b[0mplt\u001b[0m\u001b[0;34m.\u001b[0m\u001b[0mplot\u001b[0m\u001b[0;34m(\u001b[0m\u001b[0mx_data\u001b[0m\u001b[0;34m,\u001b[0m\u001b[0my_data\u001b[0m\u001b[0;34m,\u001b[0m\u001b[0;34m\".\"\u001b[0m\u001b[0;34m,\u001b[0m \u001b[0mlabel\u001b[0m \u001b[0;34m=\u001b[0m \u001b[0;34m\"Data\"\u001b[0m \u001b[0;34m)\u001b[0m\u001b[0;34m\u001b[0m\u001b[0;34m\u001b[0m\u001b[0m\n\u001b[0m\u001b[1;32m      3\u001b[0m \u001b[0mplt\u001b[0m\u001b[0;34m.\u001b[0m\u001b[0mplot\u001b[0m\u001b[0;34m(\u001b[0m\u001b[0mx_data\u001b[0m\u001b[0;34m,\u001b[0m \u001b[0mpred_Prices\u001b[0m\u001b[0;34m,\u001b[0m \u001b[0mlabel\u001b[0m\u001b[0;34m=\u001b[0m\u001b[0;34m\"fit\"\u001b[0m\u001b[0;34m)\u001b[0m\u001b[0;34m\u001b[0m\u001b[0;34m\u001b[0m\u001b[0m\n\u001b[1;32m      4\u001b[0m \u001b[0mplt\u001b[0m\u001b[0;34m.\u001b[0m\u001b[0mlegend\u001b[0m\u001b[0;34m(\u001b[0m\u001b[0;34m)\u001b[0m\u001b[0;34m\u001b[0m\u001b[0;34m\u001b[0m\u001b[0m\n\u001b[1;32m      5\u001b[0m \u001b[0mplt\u001b[0m\u001b[0;34m.\u001b[0m\u001b[0mshow\u001b[0m\u001b[0;34m(\u001b[0m\u001b[0;34m)\u001b[0m\u001b[0;34m\u001b[0m\u001b[0;34m\u001b[0m\u001b[0m\n",
            "\u001b[0;31mNameError\u001b[0m: name 'x_data' is not defined"
          ]
        }
      ]
    }
  ]
}